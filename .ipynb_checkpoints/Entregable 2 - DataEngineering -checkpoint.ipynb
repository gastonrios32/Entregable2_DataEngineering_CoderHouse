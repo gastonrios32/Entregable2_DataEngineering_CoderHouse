{
 "cells": [
  {
   "cell_type": "markdown",
   "id": "c3ebaff9",
   "metadata": {},
   "source": [
    "## Extraccion de los datos desde la API"
   ]
  },
  {
   "cell_type": "code",
   "execution_count": 1,
   "id": "472fa226",
   "metadata": {},
   "outputs": [
    {
     "name": "stdout",
     "output_type": "stream",
     "text": [
      "          name.common  population     area    region         subregion  \\\n",
      "0   Equatorial Guinea     1402985  28051.0    Africa     Middle Africa   \n",
      "1             Ireland     4994724  70273.0    Europe   Northern Europe   \n",
      "2    Pitcairn Islands          56     47.0   Oceania         Polynesia   \n",
      "3              Kosovo     1775378  10908.0    Europe  Southeast Europe   \n",
      "4  Dominican Republic    10847904  48671.0  Americas         Caribbean   \n",
      "\n",
      "           capital               borders    timezones  \n",
      "0         [Malabo]            [CMR, GAB]  [UTC+01:00]  \n",
      "1         [Dublin]                 [GBR]        [UTC]  \n",
      "2      [Adamstown]                   NaN  [UTC-08:00]  \n",
      "3       [Pristina]  [ALB, MKD, MNE, SRB]  [UTC+01:00]  \n",
      "4  [Santo Domingo]                 [HTI]  [UTC-04:00]  \n"
     ]
    }
   ],
   "source": [
    "import pandas as pd\n",
    "import requests\n",
    "\n",
    "# Realizar la solicitud GET a la API\n",
    "url = 'https://restcountries.com/v3.1/all'\n",
    "response = requests.get(url)\n",
    "data = response.json()\n",
    "\n",
    "# Transformar el JSON en un DataFrame de Pandas\n",
    "df = pd.json_normalize(data)\n",
    "\n",
    "# Seleccionar las 8 columnas más importantes\n",
    "important_columns = ['name.common', 'population', 'area',  'region',\n",
    "                     'subregion', 'capital', 'borders', 'timezones']\n",
    "\n",
    "df = df.loc[:, important_columns]\n",
    "\n",
    "# Imprimir las primeras filas del DataFrame con las 10 columnas seleccionadas\n",
    "print(df.head())"
   ]
  },
  {
   "cell_type": "markdown",
   "id": "5be4de75",
   "metadata": {},
   "source": [
    "# LIMPIEZA DE LOS DATOS "
   ]
  },
  {
   "cell_type": "code",
   "execution_count": 2,
   "id": "d96c5aa0",
   "metadata": {},
   "outputs": [
    {
     "data": {
      "text/html": [
       "<div>\n",
       "<style scoped>\n",
       "    .dataframe tbody tr th:only-of-type {\n",
       "        vertical-align: middle;\n",
       "    }\n",
       "\n",
       "    .dataframe tbody tr th {\n",
       "        vertical-align: top;\n",
       "    }\n",
       "\n",
       "    .dataframe thead th {\n",
       "        text-align: right;\n",
       "    }\n",
       "</style>\n",
       "<table border=\"1\" class=\"dataframe\">\n",
       "  <thead>\n",
       "    <tr style=\"text-align: right;\">\n",
       "      <th></th>\n",
       "      <th>name.common</th>\n",
       "      <th>population</th>\n",
       "      <th>area</th>\n",
       "      <th>region</th>\n",
       "      <th>subregion</th>\n",
       "      <th>capital</th>\n",
       "      <th>borders</th>\n",
       "      <th>timezones</th>\n",
       "    </tr>\n",
       "  </thead>\n",
       "  <tbody>\n",
       "    <tr>\n",
       "      <th>0</th>\n",
       "      <td>Equatorial Guinea</td>\n",
       "      <td>1402985</td>\n",
       "      <td>28051.0</td>\n",
       "      <td>Africa</td>\n",
       "      <td>Middle Africa</td>\n",
       "      <td>[Malabo]</td>\n",
       "      <td>[CMR, GAB]</td>\n",
       "      <td>[UTC+01:00]</td>\n",
       "    </tr>\n",
       "    <tr>\n",
       "      <th>1</th>\n",
       "      <td>Ireland</td>\n",
       "      <td>4994724</td>\n",
       "      <td>70273.0</td>\n",
       "      <td>Europe</td>\n",
       "      <td>Northern Europe</td>\n",
       "      <td>[Dublin]</td>\n",
       "      <td>[GBR]</td>\n",
       "      <td>[UTC]</td>\n",
       "    </tr>\n",
       "    <tr>\n",
       "      <th>2</th>\n",
       "      <td>Pitcairn Islands</td>\n",
       "      <td>56</td>\n",
       "      <td>47.0</td>\n",
       "      <td>Oceania</td>\n",
       "      <td>Polynesia</td>\n",
       "      <td>[Adamstown]</td>\n",
       "      <td>NaN</td>\n",
       "      <td>[UTC-08:00]</td>\n",
       "    </tr>\n",
       "    <tr>\n",
       "      <th>3</th>\n",
       "      <td>Kosovo</td>\n",
       "      <td>1775378</td>\n",
       "      <td>10908.0</td>\n",
       "      <td>Europe</td>\n",
       "      <td>Southeast Europe</td>\n",
       "      <td>[Pristina]</td>\n",
       "      <td>[ALB, MKD, MNE, SRB]</td>\n",
       "      <td>[UTC+01:00]</td>\n",
       "    </tr>\n",
       "    <tr>\n",
       "      <th>4</th>\n",
       "      <td>Dominican Republic</td>\n",
       "      <td>10847904</td>\n",
       "      <td>48671.0</td>\n",
       "      <td>Americas</td>\n",
       "      <td>Caribbean</td>\n",
       "      <td>[Santo Domingo]</td>\n",
       "      <td>[HTI]</td>\n",
       "      <td>[UTC-04:00]</td>\n",
       "    </tr>\n",
       "    <tr>\n",
       "      <th>...</th>\n",
       "      <td>...</td>\n",
       "      <td>...</td>\n",
       "      <td>...</td>\n",
       "      <td>...</td>\n",
       "      <td>...</td>\n",
       "      <td>...</td>\n",
       "      <td>...</td>\n",
       "      <td>...</td>\n",
       "    </tr>\n",
       "    <tr>\n",
       "      <th>245</th>\n",
       "      <td>Australia</td>\n",
       "      <td>25687041</td>\n",
       "      <td>7692024.0</td>\n",
       "      <td>Oceania</td>\n",
       "      <td>Australia and New Zealand</td>\n",
       "      <td>[Canberra]</td>\n",
       "      <td>NaN</td>\n",
       "      <td>[UTC+05:00, UTC+06:30, UTC+07:00, UTC+08:00, U...</td>\n",
       "    </tr>\n",
       "    <tr>\n",
       "      <th>246</th>\n",
       "      <td>Uruguay</td>\n",
       "      <td>3473727</td>\n",
       "      <td>181034.0</td>\n",
       "      <td>Americas</td>\n",
       "      <td>South America</td>\n",
       "      <td>[Montevideo]</td>\n",
       "      <td>[ARG, BRA]</td>\n",
       "      <td>[UTC-03:00]</td>\n",
       "    </tr>\n",
       "    <tr>\n",
       "      <th>247</th>\n",
       "      <td>Grenada</td>\n",
       "      <td>112519</td>\n",
       "      <td>344.0</td>\n",
       "      <td>Americas</td>\n",
       "      <td>Caribbean</td>\n",
       "      <td>[St. George's]</td>\n",
       "      <td>NaN</td>\n",
       "      <td>[UTC-04:00]</td>\n",
       "    </tr>\n",
       "    <tr>\n",
       "      <th>248</th>\n",
       "      <td>Liberia</td>\n",
       "      <td>5057677</td>\n",
       "      <td>111369.0</td>\n",
       "      <td>Africa</td>\n",
       "      <td>Western Africa</td>\n",
       "      <td>[Monrovia]</td>\n",
       "      <td>[GIN, CIV, SLE]</td>\n",
       "      <td>[UTC]</td>\n",
       "    </tr>\n",
       "    <tr>\n",
       "      <th>249</th>\n",
       "      <td>French Southern and Antarctic Lands</td>\n",
       "      <td>400</td>\n",
       "      <td>7747.0</td>\n",
       "      <td>Antarctic</td>\n",
       "      <td>NaN</td>\n",
       "      <td>[Port-aux-Français]</td>\n",
       "      <td>NaN</td>\n",
       "      <td>[UTC+05:00]</td>\n",
       "    </tr>\n",
       "  </tbody>\n",
       "</table>\n",
       "<p>250 rows × 8 columns</p>\n",
       "</div>"
      ],
      "text/plain": [
       "                             name.common  population       area     region  \\\n",
       "0                      Equatorial Guinea     1402985    28051.0     Africa   \n",
       "1                                Ireland     4994724    70273.0     Europe   \n",
       "2                       Pitcairn Islands          56       47.0    Oceania   \n",
       "3                                 Kosovo     1775378    10908.0     Europe   \n",
       "4                     Dominican Republic    10847904    48671.0   Americas   \n",
       "..                                   ...         ...        ...        ...   \n",
       "245                            Australia    25687041  7692024.0    Oceania   \n",
       "246                              Uruguay     3473727   181034.0   Americas   \n",
       "247                              Grenada      112519      344.0   Americas   \n",
       "248                              Liberia     5057677   111369.0     Africa   \n",
       "249  French Southern and Antarctic Lands         400     7747.0  Antarctic   \n",
       "\n",
       "                     subregion              capital               borders  \\\n",
       "0                Middle Africa             [Malabo]            [CMR, GAB]   \n",
       "1              Northern Europe             [Dublin]                 [GBR]   \n",
       "2                    Polynesia          [Adamstown]                   NaN   \n",
       "3             Southeast Europe           [Pristina]  [ALB, MKD, MNE, SRB]   \n",
       "4                    Caribbean      [Santo Domingo]                 [HTI]   \n",
       "..                         ...                  ...                   ...   \n",
       "245  Australia and New Zealand           [Canberra]                   NaN   \n",
       "246              South America         [Montevideo]            [ARG, BRA]   \n",
       "247                  Caribbean       [St. George's]                   NaN   \n",
       "248             Western Africa           [Monrovia]       [GIN, CIV, SLE]   \n",
       "249                        NaN  [Port-aux-Français]                   NaN   \n",
       "\n",
       "                                             timezones  \n",
       "0                                          [UTC+01:00]  \n",
       "1                                                [UTC]  \n",
       "2                                          [UTC-08:00]  \n",
       "3                                          [UTC+01:00]  \n",
       "4                                          [UTC-04:00]  \n",
       "..                                                 ...  \n",
       "245  [UTC+05:00, UTC+06:30, UTC+07:00, UTC+08:00, U...  \n",
       "246                                        [UTC-03:00]  \n",
       "247                                        [UTC-04:00]  \n",
       "248                                              [UTC]  \n",
       "249                                        [UTC+05:00]  \n",
       "\n",
       "[250 rows x 8 columns]"
      ]
     },
     "execution_count": 2,
     "metadata": {},
     "output_type": "execute_result"
    }
   ],
   "source": [
    "df"
   ]
  },
  {
   "cell_type": "code",
   "execution_count": 3,
   "id": "e3b4e8eb",
   "metadata": {},
   "outputs": [],
   "source": [
    "df=df.rename(columns={'name.common':'Name'})"
   ]
  },
  {
   "cell_type": "code",
   "execution_count": 4,
   "id": "ca3c89d1",
   "metadata": {},
   "outputs": [],
   "source": [
    "df['capital'] = df['capital'].astype(str)\n",
    "df['borders'] = df['borders'].astype(str)\n",
    "df['timezones'] = df['timezones'].astype(str)"
   ]
  },
  {
   "cell_type": "markdown",
   "id": "4bf4c17e",
   "metadata": {},
   "source": [
    "## Se agrega columna de auditoria "
   ]
  },
  {
   "cell_type": "code",
   "execution_count": 5,
   "id": "df0eff9e",
   "metadata": {},
   "outputs": [],
   "source": [
    "from datetime import datetime\n",
    "\n",
    "fecha_actual = datetime.now()\n",
    "\n",
    "df['ETL_TIME'] = pd.to_datetime(fecha_actual)"
   ]
  },
  {
   "cell_type": "markdown",
   "id": "b1d57c4e",
   "metadata": {},
   "source": [
    "## Quitamos Corchetes y comillas simples "
   ]
  },
  {
   "cell_type": "code",
   "execution_count": 6,
   "id": "43c3ffc7",
   "metadata": {},
   "outputs": [],
   "source": [
    "df['borders'] = df['borders'].apply(lambda x: ''.join(x).replace(\"'\", \"\"))\n",
    "df['borders'] = df['borders'].apply(lambda x: ''.join(x).replace(\"[\", \"\"))\n",
    "df['borders'] = df['borders'].apply(lambda x: ''.join(x).replace(\"]\", \"\"))\n",
    "\n",
    "df['capital'] = df['capital'].apply(lambda x: ''.join(x).replace(\"'\", \"\"))\n",
    "df['capital'] = df['capital'].apply(lambda x: ''.join(x).replace(\"[\", \"\"))\n",
    "df['capital'] = df['capital'].apply(lambda x: ''.join(x).replace(\"]\", \"\"))\n",
    "\n",
    "df['timezones'] = df['timezones'].apply(lambda x: ''.join(x).replace(\"'\", \"\"))\n",
    "df['timezones'] = df['timezones'].apply(lambda x: ''.join(x).replace(\"[\", \"\"))\n",
    "df['timezones'] = df['timezones'].apply(lambda x: ''.join(x).replace(\"]\", \"\"))"
   ]
  },
  {
   "cell_type": "code",
   "execution_count": 7,
   "id": "af6249fb",
   "metadata": {},
   "outputs": [
    {
     "data": {
      "text/html": [
       "<div>\n",
       "<style scoped>\n",
       "    .dataframe tbody tr th:only-of-type {\n",
       "        vertical-align: middle;\n",
       "    }\n",
       "\n",
       "    .dataframe tbody tr th {\n",
       "        vertical-align: top;\n",
       "    }\n",
       "\n",
       "    .dataframe thead th {\n",
       "        text-align: right;\n",
       "    }\n",
       "</style>\n",
       "<table border=\"1\" class=\"dataframe\">\n",
       "  <thead>\n",
       "    <tr style=\"text-align: right;\">\n",
       "      <th></th>\n",
       "      <th>Name</th>\n",
       "      <th>population</th>\n",
       "      <th>area</th>\n",
       "      <th>region</th>\n",
       "      <th>subregion</th>\n",
       "      <th>capital</th>\n",
       "      <th>borders</th>\n",
       "      <th>timezones</th>\n",
       "      <th>ETL_TIME</th>\n",
       "    </tr>\n",
       "  </thead>\n",
       "  <tbody>\n",
       "    <tr>\n",
       "      <th>0</th>\n",
       "      <td>Equatorial Guinea</td>\n",
       "      <td>1402985</td>\n",
       "      <td>28051.0</td>\n",
       "      <td>Africa</td>\n",
       "      <td>Middle Africa</td>\n",
       "      <td>Malabo</td>\n",
       "      <td>CMR, GAB</td>\n",
       "      <td>UTC+01:00</td>\n",
       "      <td>2023-05-27 12:29:50.741404</td>\n",
       "    </tr>\n",
       "    <tr>\n",
       "      <th>1</th>\n",
       "      <td>Ireland</td>\n",
       "      <td>4994724</td>\n",
       "      <td>70273.0</td>\n",
       "      <td>Europe</td>\n",
       "      <td>Northern Europe</td>\n",
       "      <td>Dublin</td>\n",
       "      <td>GBR</td>\n",
       "      <td>UTC</td>\n",
       "      <td>2023-05-27 12:29:50.741404</td>\n",
       "    </tr>\n",
       "    <tr>\n",
       "      <th>2</th>\n",
       "      <td>Pitcairn Islands</td>\n",
       "      <td>56</td>\n",
       "      <td>47.0</td>\n",
       "      <td>Oceania</td>\n",
       "      <td>Polynesia</td>\n",
       "      <td>Adamstown</td>\n",
       "      <td>nan</td>\n",
       "      <td>UTC-08:00</td>\n",
       "      <td>2023-05-27 12:29:50.741404</td>\n",
       "    </tr>\n",
       "    <tr>\n",
       "      <th>3</th>\n",
       "      <td>Kosovo</td>\n",
       "      <td>1775378</td>\n",
       "      <td>10908.0</td>\n",
       "      <td>Europe</td>\n",
       "      <td>Southeast Europe</td>\n",
       "      <td>Pristina</td>\n",
       "      <td>ALB, MKD, MNE, SRB</td>\n",
       "      <td>UTC+01:00</td>\n",
       "      <td>2023-05-27 12:29:50.741404</td>\n",
       "    </tr>\n",
       "    <tr>\n",
       "      <th>4</th>\n",
       "      <td>Dominican Republic</td>\n",
       "      <td>10847904</td>\n",
       "      <td>48671.0</td>\n",
       "      <td>Americas</td>\n",
       "      <td>Caribbean</td>\n",
       "      <td>Santo Domingo</td>\n",
       "      <td>HTI</td>\n",
       "      <td>UTC-04:00</td>\n",
       "      <td>2023-05-27 12:29:50.741404</td>\n",
       "    </tr>\n",
       "    <tr>\n",
       "      <th>...</th>\n",
       "      <td>...</td>\n",
       "      <td>...</td>\n",
       "      <td>...</td>\n",
       "      <td>...</td>\n",
       "      <td>...</td>\n",
       "      <td>...</td>\n",
       "      <td>...</td>\n",
       "      <td>...</td>\n",
       "      <td>...</td>\n",
       "    </tr>\n",
       "    <tr>\n",
       "      <th>245</th>\n",
       "      <td>Australia</td>\n",
       "      <td>25687041</td>\n",
       "      <td>7692024.0</td>\n",
       "      <td>Oceania</td>\n",
       "      <td>Australia and New Zealand</td>\n",
       "      <td>Canberra</td>\n",
       "      <td>nan</td>\n",
       "      <td>UTC+05:00, UTC+06:30, UTC+07:00, UTC+08:00, UT...</td>\n",
       "      <td>2023-05-27 12:29:50.741404</td>\n",
       "    </tr>\n",
       "    <tr>\n",
       "      <th>246</th>\n",
       "      <td>Uruguay</td>\n",
       "      <td>3473727</td>\n",
       "      <td>181034.0</td>\n",
       "      <td>Americas</td>\n",
       "      <td>South America</td>\n",
       "      <td>Montevideo</td>\n",
       "      <td>ARG, BRA</td>\n",
       "      <td>UTC-03:00</td>\n",
       "      <td>2023-05-27 12:29:50.741404</td>\n",
       "    </tr>\n",
       "    <tr>\n",
       "      <th>247</th>\n",
       "      <td>Grenada</td>\n",
       "      <td>112519</td>\n",
       "      <td>344.0</td>\n",
       "      <td>Americas</td>\n",
       "      <td>Caribbean</td>\n",
       "      <td>\"St. Georges\"</td>\n",
       "      <td>nan</td>\n",
       "      <td>UTC-04:00</td>\n",
       "      <td>2023-05-27 12:29:50.741404</td>\n",
       "    </tr>\n",
       "    <tr>\n",
       "      <th>248</th>\n",
       "      <td>Liberia</td>\n",
       "      <td>5057677</td>\n",
       "      <td>111369.0</td>\n",
       "      <td>Africa</td>\n",
       "      <td>Western Africa</td>\n",
       "      <td>Monrovia</td>\n",
       "      <td>GIN, CIV, SLE</td>\n",
       "      <td>UTC</td>\n",
       "      <td>2023-05-27 12:29:50.741404</td>\n",
       "    </tr>\n",
       "    <tr>\n",
       "      <th>249</th>\n",
       "      <td>French Southern and Antarctic Lands</td>\n",
       "      <td>400</td>\n",
       "      <td>7747.0</td>\n",
       "      <td>Antarctic</td>\n",
       "      <td>NaN</td>\n",
       "      <td>Port-aux-Français</td>\n",
       "      <td>nan</td>\n",
       "      <td>UTC+05:00</td>\n",
       "      <td>2023-05-27 12:29:50.741404</td>\n",
       "    </tr>\n",
       "  </tbody>\n",
       "</table>\n",
       "<p>250 rows × 9 columns</p>\n",
       "</div>"
      ],
      "text/plain": [
       "                                    Name  population       area     region  \\\n",
       "0                      Equatorial Guinea     1402985    28051.0     Africa   \n",
       "1                                Ireland     4994724    70273.0     Europe   \n",
       "2                       Pitcairn Islands          56       47.0    Oceania   \n",
       "3                                 Kosovo     1775378    10908.0     Europe   \n",
       "4                     Dominican Republic    10847904    48671.0   Americas   \n",
       "..                                   ...         ...        ...        ...   \n",
       "245                            Australia    25687041  7692024.0    Oceania   \n",
       "246                              Uruguay     3473727   181034.0   Americas   \n",
       "247                              Grenada      112519      344.0   Americas   \n",
       "248                              Liberia     5057677   111369.0     Africa   \n",
       "249  French Southern and Antarctic Lands         400     7747.0  Antarctic   \n",
       "\n",
       "                     subregion            capital             borders  \\\n",
       "0                Middle Africa             Malabo            CMR, GAB   \n",
       "1              Northern Europe             Dublin                 GBR   \n",
       "2                    Polynesia          Adamstown                 nan   \n",
       "3             Southeast Europe           Pristina  ALB, MKD, MNE, SRB   \n",
       "4                    Caribbean      Santo Domingo                 HTI   \n",
       "..                         ...                ...                 ...   \n",
       "245  Australia and New Zealand           Canberra                 nan   \n",
       "246              South America         Montevideo            ARG, BRA   \n",
       "247                  Caribbean      \"St. Georges\"                 nan   \n",
       "248             Western Africa           Monrovia       GIN, CIV, SLE   \n",
       "249                        NaN  Port-aux-Français                 nan   \n",
       "\n",
       "                                             timezones  \\\n",
       "0                                            UTC+01:00   \n",
       "1                                                  UTC   \n",
       "2                                            UTC-08:00   \n",
       "3                                            UTC+01:00   \n",
       "4                                            UTC-04:00   \n",
       "..                                                 ...   \n",
       "245  UTC+05:00, UTC+06:30, UTC+07:00, UTC+08:00, UT...   \n",
       "246                                          UTC-03:00   \n",
       "247                                          UTC-04:00   \n",
       "248                                                UTC   \n",
       "249                                          UTC+05:00   \n",
       "\n",
       "                      ETL_TIME  \n",
       "0   2023-05-27 12:29:50.741404  \n",
       "1   2023-05-27 12:29:50.741404  \n",
       "2   2023-05-27 12:29:50.741404  \n",
       "3   2023-05-27 12:29:50.741404  \n",
       "4   2023-05-27 12:29:50.741404  \n",
       "..                         ...  \n",
       "245 2023-05-27 12:29:50.741404  \n",
       "246 2023-05-27 12:29:50.741404  \n",
       "247 2023-05-27 12:29:50.741404  \n",
       "248 2023-05-27 12:29:50.741404  \n",
       "249 2023-05-27 12:29:50.741404  \n",
       "\n",
       "[250 rows x 9 columns]"
      ]
     },
     "execution_count": 7,
     "metadata": {},
     "output_type": "execute_result"
    }
   ],
   "source": [
    "df"
   ]
  },
  {
   "cell_type": "markdown",
   "id": "a65fbe95",
   "metadata": {},
   "source": [
    "## Buscamos duplicados "
   ]
  },
  {
   "cell_type": "code",
   "execution_count": 8,
   "id": "ab89d86a",
   "metadata": {
    "scrolled": false
   },
   "outputs": [],
   "source": [
    "df_Duplicados=df[df.duplicated('Name')]"
   ]
  },
  {
   "cell_type": "code",
   "execution_count": 9,
   "id": "6be50dd8",
   "metadata": {
    "scrolled": true
   },
   "outputs": [
    {
     "data": {
      "text/html": [
       "<div>\n",
       "<style scoped>\n",
       "    .dataframe tbody tr th:only-of-type {\n",
       "        vertical-align: middle;\n",
       "    }\n",
       "\n",
       "    .dataframe tbody tr th {\n",
       "        vertical-align: top;\n",
       "    }\n",
       "\n",
       "    .dataframe thead th {\n",
       "        text-align: right;\n",
       "    }\n",
       "</style>\n",
       "<table border=\"1\" class=\"dataframe\">\n",
       "  <thead>\n",
       "    <tr style=\"text-align: right;\">\n",
       "      <th></th>\n",
       "      <th>Name</th>\n",
       "      <th>population</th>\n",
       "      <th>area</th>\n",
       "      <th>region</th>\n",
       "      <th>subregion</th>\n",
       "      <th>capital</th>\n",
       "      <th>borders</th>\n",
       "      <th>timezones</th>\n",
       "      <th>ETL_TIME</th>\n",
       "    </tr>\n",
       "  </thead>\n",
       "  <tbody>\n",
       "  </tbody>\n",
       "</table>\n",
       "</div>"
      ],
      "text/plain": [
       "Empty DataFrame\n",
       "Columns: [Name, population, area, region, subregion, capital, borders, timezones, ETL_TIME]\n",
       "Index: []"
      ]
     },
     "execution_count": 9,
     "metadata": {},
     "output_type": "execute_result"
    }
   ],
   "source": [
    "df_Duplicados"
   ]
  },
  {
   "cell_type": "code",
   "execution_count": 20,
   "id": "cea7af9d",
   "metadata": {},
   "outputs": [
    {
     "name": "stdout",
     "output_type": "stream",
     "text": [
      "Número de valores NaN en el DataFrame: 1\n"
     ]
    }
   ],
   "source": [
    "nan_counts = df.isna().any().sum()\n",
    "print(f\"Número de valores NaN en el DataFrame: {nan_counts}\")"
   ]
  },
  {
   "cell_type": "markdown",
   "id": "81c4c6f8",
   "metadata": {},
   "source": [
    "## Cantidad de paises por region "
   ]
  },
  {
   "cell_type": "code",
   "execution_count": 10,
   "id": "2c6f2679",
   "metadata": {},
   "outputs": [],
   "source": [
    "df_cantidades = df.groupby('region').count()"
   ]
  },
  {
   "cell_type": "code",
   "execution_count": 11,
   "id": "bfa8eb22",
   "metadata": {},
   "outputs": [
    {
     "name": "stdout",
     "output_type": "stream",
     "text": [
      "region\n",
      "Africa       59\n",
      "Americas     56\n",
      "Antarctic     5\n",
      "Asia         50\n",
      "Europe       53\n",
      "Oceania      27\n",
      "Name: Name, dtype: int64\n"
     ]
    }
   ],
   "source": [
    "print(df_cantidades['Name'])"
   ]
  },
  {
   "cell_type": "markdown",
   "id": "08e6f7cd",
   "metadata": {},
   "source": [
    "## CREACION DE LA TABLA EN REDSHIFT"
   ]
  },
  {
   "cell_type": "markdown",
   "id": "b8d5ff74",
   "metadata": {},
   "source": [
    "Create table gastonrios32_coderhouse.STG_countries(\n",
    "\n",
    "Id_Country INT primary key  IDENTITY(1,1),\n",
    "\n",
    "Name varchar(200),\n",
    "\n",
    "population int,\n",
    "\n",
    "area decimal(10,2),\n",
    "\n",
    "region varchar(250),\n",
    "\n",
    "subregion varchar(250),\n",
    "\n",
    "capital varchar(250),\n",
    "\n",
    "borders varchar(250),\n",
    "\n",
    "timezones varchar(250),\n",
    "\n",
    "ETL_TIME timestamp\n",
    ")"
   ]
  },
  {
   "cell_type": "markdown",
   "id": "c42c9785",
   "metadata": {},
   "source": [
    "## Login a REDSHIFT"
   ]
  },
  {
   "cell_type": "code",
   "execution_count": 12,
   "id": "f55064d5",
   "metadata": {},
   "outputs": [
    {
     "name": "stdout",
     "output_type": "stream",
     "text": [
      "Requirement already satisfied: sqlalchemy in c:\\users\\grios\\anaconda3\\lib\\site-packages (1.4.39)\n",
      "Requirement already satisfied: greenlet!=0.4.17 in c:\\users\\grios\\anaconda3\\lib\\site-packages (from sqlalchemy) (1.1.1)\n",
      "Requirement already satisfied: psycopg2 in c:\\users\\grios\\anaconda3\\lib\\site-packages (2.9.6)\n"
     ]
    }
   ],
   "source": [
    "!pip install sqlalchemy\n",
    "!pip install psycopg2"
   ]
  },
  {
   "cell_type": "code",
   "execution_count": 13,
   "id": "0d9ec41b",
   "metadata": {},
   "outputs": [],
   "source": [
    "import psycopg2\n"
   ]
  },
  {
   "cell_type": "code",
   "execution_count": 14,
   "id": "10d470c6",
   "metadata": {},
   "outputs": [],
   "source": [
    "url=\"data-engineer-cluster.cyhh5bfevlmn.us-east-1.redshift.amazonaws.com\"\n",
    "data_base=\"data-engineer-database\"\n",
    "user=\"gastonrios32_coderhouse\"\n",
    "with open(\"C:/Users/grios/Documents/User_REDSHIFT.txt\",'r') as f:\n",
    "    pwd= f.read()\n"
   ]
  },
  {
   "cell_type": "code",
   "execution_count": 15,
   "id": "4f4ecbf4",
   "metadata": {},
   "outputs": [
    {
     "name": "stdout",
     "output_type": "stream",
     "text": [
      "Connected to Redshift successfully!\n"
     ]
    }
   ],
   "source": [
    "try:\n",
    "    conn = psycopg2.connect(\n",
    "        host='data-engineer-cluster.cyhh5bfevlmn.us-east-1.redshift.amazonaws.com',\n",
    "        dbname=data_base,\n",
    "        user=user,\n",
    "        password=pwd,\n",
    "        port='5439'\n",
    "    )\n",
    "    print(\"Connected to Redshift successfully!\")\n",
    "    \n",
    "except Exception as e:\n",
    "    print(\"Unable to connect to Redshift.\")\n",
    "    print(e)"
   ]
  },
  {
   "cell_type": "code",
   "execution_count": 16,
   "id": "1025550b",
   "metadata": {},
   "outputs": [
    {
     "data": {
      "text/plain": [
       "<connection object at 0x000001D0F2186260; dsn: 'user=gastonrios32_coderhouse password=xxx dbname=data-engineer-database host=data-engineer-cluster.cyhh5bfevlmn.us-east-1.redshift.amazonaws.com port=5439', closed: 0>"
      ]
     },
     "execution_count": 16,
     "metadata": {},
     "output_type": "execute_result"
    }
   ],
   "source": [
    "conn"
   ]
  },
  {
   "cell_type": "code",
   "execution_count": 17,
   "id": "cddb1e3d",
   "metadata": {},
   "outputs": [
    {
     "data": {
      "text/plain": [
       "[]"
      ]
     },
     "execution_count": 17,
     "metadata": {},
     "output_type": "execute_result"
    }
   ],
   "source": [
    "cur = conn.cursor()\n",
    "# Execute a SQL query to select data from a table\n",
    "cur.execute(\"SELECT * FROM STG_countries\")\n",
    "# Fetch the results\n",
    "results = cur.fetchall()\n",
    "results"
   ]
  },
  {
   "cell_type": "code",
   "execution_count": 18,
   "id": "79dbcf1d",
   "metadata": {},
   "outputs": [],
   "source": [
    "from psycopg2.extras import execute_values\n",
    "cur = conn.cursor()\n",
    "# Define the table name\n",
    "table_name = 'gastonrios32_coderhouse.stg_countries'\n",
    "# Define the columns you want to insert data into\n",
    "columns = ['Name', 'population', 'area','region','subregion','capital','borders','timezones','ETL_TIME']\n",
    "# Generate \n",
    "values = [tuple(x) for x in df.to_numpy()]\n",
    "insert_sql = f\"INSERT INTO {table_name} ({', '.join(columns)}) VALUES %s\"\n",
    "# Execute the INSERT statement using execute_values\n",
    "cur.execute(\"BEGIN\")\n",
    "execute_values(cur, insert_sql, values)\n",
    "cur.execute(\"COMMIT\")\n",
    "# Close the cursor and connection\n",
    "#cur.close()\n",
    "#conn.close()"
   ]
  },
  {
   "cell_type": "code",
   "execution_count": 21,
   "id": "ae7225d9",
   "metadata": {},
   "outputs": [],
   "source": [
    "cur.close()\n",
    "conn.close()"
   ]
  },
  {
   "cell_type": "code",
   "execution_count": null,
   "id": "fa5b0768",
   "metadata": {},
   "outputs": [],
   "source": []
  },
  {
   "cell_type": "code",
   "execution_count": null,
   "id": "2913b4fc",
   "metadata": {},
   "outputs": [],
   "source": []
  }
 ],
 "metadata": {
  "kernelspec": {
   "display_name": "Python 3 (ipykernel)",
   "language": "python",
   "name": "python3"
  },
  "language_info": {
   "codemirror_mode": {
    "name": "ipython",
    "version": 3
   },
   "file_extension": ".py",
   "mimetype": "text/x-python",
   "name": "python",
   "nbconvert_exporter": "python",
   "pygments_lexer": "ipython3",
   "version": "3.9.13"
  }
 },
 "nbformat": 4,
 "nbformat_minor": 5
}
